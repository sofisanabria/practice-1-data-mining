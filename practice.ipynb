{
 "cells": [
  {
   "cell_type": "markdown",
   "metadata": {},
   "source": [
    "# UCU 2024 - Práctica 1\n",
    "\n",
    "Data Mining - Rest API\n",
    "\n",
    "## Consumo de Datos Históricos Financieros desde una API y Exportación a JSON"
   ]
  },
  {
   "cell_type": "markdown",
   "metadata": {},
   "source": [
    "Importar dependencias"
   ]
  },
  {
   "cell_type": "code",
   "execution_count": 9,
   "metadata": {},
   "outputs": [],
   "source": [
    "import requests\n",
    "import json"
   ]
  },
  {
   "cell_type": "markdown",
   "metadata": {},
   "source": [
    "Declarar variables"
   ]
  },
  {
   "cell_type": "code",
   "execution_count": 10,
   "metadata": {},
   "outputs": [],
   "source": [
    "URL = \"https://api.coingecko.com/api/v3/coins/bitcoin/history\"\n",
    "DATES = [\"01-07-2024\", \"01-01-2024\", \"01-07-2023\", \"01-01-2023\", \"01-07-2022\", \"01-01-2022\"]\n",
    "TOKEN = \"YOUR_TOKEN_HERE\"\n",
    "TOKEN_PARAM = \"x_cg_demo_api_key\""
   ]
  },
  {
   "cell_type": "code",
   "execution_count": 11,
   "metadata": {},
   "outputs": [
    {
     "name": "stdout",
     "output_type": "stream",
     "text": [
      "{\n",
      "   \"data\": [\n",
      "      {\n",
      "         \"date\": \"01-07-2024\",\n",
      "         \"price_usd\": 62734.39383945474,\n",
      "         \"price_eur\": 58430.814422068135,\n",
      "         \"market_cap\": 1236676710888.4822\n",
      "      },\n",
      "      {\n",
      "         \"date\": \"01-01-2024\",\n",
      "         \"price_usd\": 42208.202176186474,\n",
      "         \"price_eur\": 38240.20908960317,\n",
      "         \"market_cap\": 827596236151.1959\n",
      "      },\n",
      "      {\n",
      "         \"date\": \"01-07-2023\",\n",
      "         \"price_usd\": null,\n",
      "         \"price_eur\": null,\n",
      "         \"market_cap\": null\n",
      "      },\n",
      "      {\n",
      "         \"date\": \"01-01-2023\",\n",
      "         \"price_usd\": null,\n",
      "         \"price_eur\": null,\n",
      "         \"market_cap\": null\n",
      "      },\n",
      "      {\n",
      "         \"date\": \"01-07-2022\",\n",
      "         \"price_usd\": null,\n",
      "         \"price_eur\": null,\n",
      "         \"market_cap\": null\n",
      "      },\n",
      "      {\n",
      "         \"date\": \"01-01-2022\",\n",
      "         \"price_usd\": null,\n",
      "         \"price_eur\": null,\n",
      "         \"market_cap\": null\n",
      "      }\n",
      "   ]\n",
      "}\n"
     ]
    }
   ],
   "source": [
    "market = { \"data\": [] }\n",
    "for date in DATES:\n",
    "    res = requests.get(URL, params= {TOKEN_PARAM: TOKEN, \"date\": date})\n",
    "    date_info = {\n",
    "           \"date\": date,\n",
    "           \"price_usd\": None,\n",
    "           \"price_eur\": None,\n",
    "           \"market_cap\": None\n",
    "    }\n",
    "    if res.status_code == 200:\n",
    "        res_json = res.json()\n",
    "        market_data = res_json[\"market_data\"]\n",
    "        date_info[\"price_usd\"] = market_data[\"current_price\"][\"usd\"]\n",
    "        date_info[\"price_eur\"] = market_data[\"current_price\"][\"eur\"]\n",
    "        date_info[\"market_cap\"] = market_data[\"market_cap\"][\"usd\"]\n",
    "    market[\"data\"].append(date_info)\n",
    "print(json.dumps(market, indent=3))"
   ]
  },
  {
   "cell_type": "code",
   "execution_count": 12,
   "metadata": {},
   "outputs": [],
   "source": [
    "json.dump(market, open(\"bitcoin_historical_data.json\", \"w\"), indent=3)"
   ]
  }
 ],
 "metadata": {
  "kernelspec": {
   "display_name": ".venv",
   "language": "python",
   "name": "python3"
  },
  "language_info": {
   "codemirror_mode": {
    "name": "ipython",
    "version": 3
   },
   "file_extension": ".py",
   "mimetype": "text/x-python",
   "name": "python",
   "nbconvert_exporter": "python",
   "pygments_lexer": "ipython3",
   "version": "3.12.5"
  }
 },
 "nbformat": 4,
 "nbformat_minor": 2
}
